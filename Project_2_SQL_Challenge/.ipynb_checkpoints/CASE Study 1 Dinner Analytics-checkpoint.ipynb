{
 "cells": [
  {
   "cell_type": "markdown",
   "id": "5af6f5c7",
   "metadata": {},
   "source": [
    "#  Case Study 1: Diner Data Analysis\n",
    "<img src='dinner_shop.png'>"
   ]
  },
  {
   "cell_type": "markdown",
   "id": "6bb50bd1",
   "metadata": {},
   "source": [
    "## Problem Statement\n",
    "### wants to use the data to answer a few simple questions about his customers, especially about their visiting patterns, how much money they’ve spent, and which menu items are their favourite.\n",
    "\n",
    "\n",
    "### Having this deeper connection with his customers will help him deliver a better and more personalised experience for his loyal customers. He offered a subscription program to his cutomers through which they can gain points which can be used later to get a discount on meals. In return, subscribed customers should fill some personal information in a survey form.  He plans on using these insights to help him decide whether he should expand the existing customer loyalty program — additionally he needs help to generate some basic datasets so his team can easily inspect the data without needing to use SQL.\n",
    "\n",
    "\n",
    "### Assumptions:\n",
    "### 1. Customers can buy a meal (product) before registering for the subsrciption program.\n",
    "### 2. A customer may buy mroe than one meal in the same day (invited his/her firend over dinner )"
   ]
  },
  {
   "cell_type": "markdown",
   "id": "c8d85eaf",
   "metadata": {},
   "source": [
    "## ERD\n",
    "\n",
    "\n",
    "### The data set contains the following 3 tables which you may refer to the relationship diagram below to understand the connection.\n",
    "\n",
    "#### - sales\n",
    "#### - members\n",
    "#### - menu\n",
    "\n",
    "<img src='ERD.PNG'>"
   ]
  },
  {
   "cell_type": "code",
   "execution_count": 1,
   "id": "a7cee9ff",
   "metadata": {},
   "outputs": [],
   "source": [
    "import pandas as pd\n",
    "import matplotlib.pyplot as plt\n",
    "import seaborn as sns\n",
    "sns.set()\n",
    "\n",
    "import psycopg2\n",
    "\n",
    "import warnings\n",
    "warnings.filterwarnings(\"ignore\")"
   ]
  },
  {
   "cell_type": "code",
   "execution_count": 2,
   "id": "4b3917ba",
   "metadata": {},
   "outputs": [],
   "source": [
    "hostname = 'localhost'\n",
    "database = 'SQL_Challenge'\n",
    "username = 'postgres'\n",
    "pwd = 'Seriously!'\n",
    "port_id = 5432"
   ]
  },
  {
   "cell_type": "code",
   "execution_count": 3,
   "id": "bba63a6d",
   "metadata": {},
   "outputs": [],
   "source": [
    "try:\n",
    "    conn = psycopg2.connect(host= hostname,\n",
    "                            dbname = database,\n",
    "                            user = username,\n",
    "                            password = pwd,\n",
    "                            port = port_id\n",
    "                            )\n",
    "except Exception as error:\n",
    "    print(error) "
   ]
  },
  {
   "cell_type": "markdown",
   "id": "7af17516",
   "metadata": {},
   "source": [
    "### 1. What is the total amount each customer spent at the restaurant?"
   ]
  },
  {
   "cell_type": "code",
   "execution_count": 4,
   "id": "639cce62",
   "metadata": {
    "scrolled": true
   },
   "outputs": [
    {
     "data": {
      "text/html": [
       "<div>\n",
       "<style scoped>\n",
       "    .dataframe tbody tr th:only-of-type {\n",
       "        vertical-align: middle;\n",
       "    }\n",
       "\n",
       "    .dataframe tbody tr th {\n",
       "        vertical-align: top;\n",
       "    }\n",
       "\n",
       "    .dataframe thead th {\n",
       "        text-align: right;\n",
       "    }\n",
       "</style>\n",
       "<table border=\"1\" class=\"dataframe\">\n",
       "  <thead>\n",
       "    <tr style=\"text-align: right;\">\n",
       "      <th></th>\n",
       "      <th>customer</th>\n",
       "      <th>total_payment</th>\n",
       "    </tr>\n",
       "  </thead>\n",
       "  <tbody>\n",
       "    <tr>\n",
       "      <th>0</th>\n",
       "      <td>A</td>\n",
       "      <td>76</td>\n",
       "    </tr>\n",
       "    <tr>\n",
       "      <th>1</th>\n",
       "      <td>B</td>\n",
       "      <td>74</td>\n",
       "    </tr>\n",
       "    <tr>\n",
       "      <th>2</th>\n",
       "      <td>C</td>\n",
       "      <td>36</td>\n",
       "    </tr>\n",
       "  </tbody>\n",
       "</table>\n",
       "</div>"
      ],
      "text/plain": [
       "  customer  total_payment\n",
       "0        A             76\n",
       "1        B             74\n",
       "2        C             36"
      ]
     },
     "execution_count": 4,
     "metadata": {},
     "output_type": "execute_result"
    }
   ],
   "source": [
    "a1_script = \"\"\"\n",
    "SELECT s.customer_id AS customer, SUM(m.price) AS total_payment\n",
    "FROM  sales s\n",
    "JOIN menu m\n",
    "    ON s.product_id = m.product_id\n",
    "GROUP BY 1\n",
    "ORDER by 1;\n",
    "\"\"\"\n",
    "a1_sql = pd.read_sql_query(a1_script,con=conn)\n",
    "\n",
    "a1_sql"
   ]
  },
  {
   "cell_type": "markdown",
   "id": "6538d625",
   "metadata": {},
   "source": [
    "### 2. How many days has each customer visited the restaurant?"
   ]
  },
  {
   "cell_type": "code",
   "execution_count": 5,
   "id": "118b4b49",
   "metadata": {},
   "outputs": [
    {
     "data": {
      "text/html": [
       "<div>\n",
       "<style scoped>\n",
       "    .dataframe tbody tr th:only-of-type {\n",
       "        vertical-align: middle;\n",
       "    }\n",
       "\n",
       "    .dataframe tbody tr th {\n",
       "        vertical-align: top;\n",
       "    }\n",
       "\n",
       "    .dataframe thead th {\n",
       "        text-align: right;\n",
       "    }\n",
       "</style>\n",
       "<table border=\"1\" class=\"dataframe\">\n",
       "  <thead>\n",
       "    <tr style=\"text-align: right;\">\n",
       "      <th></th>\n",
       "      <th>customer</th>\n",
       "      <th>num_of_days</th>\n",
       "    </tr>\n",
       "  </thead>\n",
       "  <tbody>\n",
       "    <tr>\n",
       "      <th>0</th>\n",
       "      <td>A</td>\n",
       "      <td>4</td>\n",
       "    </tr>\n",
       "    <tr>\n",
       "      <th>1</th>\n",
       "      <td>B</td>\n",
       "      <td>6</td>\n",
       "    </tr>\n",
       "    <tr>\n",
       "      <th>2</th>\n",
       "      <td>C</td>\n",
       "      <td>2</td>\n",
       "    </tr>\n",
       "  </tbody>\n",
       "</table>\n",
       "</div>"
      ],
      "text/plain": [
       "  customer  num_of_days\n",
       "0        A            4\n",
       "1        B            6\n",
       "2        C            2"
      ]
     },
     "execution_count": 5,
     "metadata": {},
     "output_type": "execute_result"
    }
   ],
   "source": [
    "a2_script = \"\"\"\n",
    "SELECT customer_id AS customer, COUNT(DISTINCT(order_date)) AS num_of_days\n",
    "FROM sales\n",
    "GROUP BY 1;\n",
    "\"\"\"\n",
    "a2_sql = pd.read_sql_query(a2_script,con=conn)\n",
    "\n",
    "a2_sql"
   ]
  },
  {
   "cell_type": "markdown",
   "id": "36e57f62",
   "metadata": {},
   "source": [
    "### 3. What was the item(s) from the menu purchased by each customer in their first day?"
   ]
  },
  {
   "cell_type": "code",
   "execution_count": 6,
   "id": "f5c4a835",
   "metadata": {},
   "outputs": [
    {
     "data": {
      "text/html": [
       "<div>\n",
       "<style scoped>\n",
       "    .dataframe tbody tr th:only-of-type {\n",
       "        vertical-align: middle;\n",
       "    }\n",
       "\n",
       "    .dataframe tbody tr th {\n",
       "        vertical-align: top;\n",
       "    }\n",
       "\n",
       "    .dataframe thead th {\n",
       "        text-align: right;\n",
       "    }\n",
       "</style>\n",
       "<table border=\"1\" class=\"dataframe\">\n",
       "  <thead>\n",
       "    <tr style=\"text-align: right;\">\n",
       "      <th></th>\n",
       "      <th>customer_id</th>\n",
       "      <th>product_name</th>\n",
       "    </tr>\n",
       "  </thead>\n",
       "  <tbody>\n",
       "    <tr>\n",
       "      <th>0</th>\n",
       "      <td>A</td>\n",
       "      <td>curry</td>\n",
       "    </tr>\n",
       "    <tr>\n",
       "      <th>1</th>\n",
       "      <td>A</td>\n",
       "      <td>sushi</td>\n",
       "    </tr>\n",
       "    <tr>\n",
       "      <th>2</th>\n",
       "      <td>B</td>\n",
       "      <td>curry</td>\n",
       "    </tr>\n",
       "    <tr>\n",
       "      <th>3</th>\n",
       "      <td>C</td>\n",
       "      <td>ramen</td>\n",
       "    </tr>\n",
       "  </tbody>\n",
       "</table>\n",
       "</div>"
      ],
      "text/plain": [
       "  customer_id product_name\n",
       "0           A        curry\n",
       "1           A        sushi\n",
       "2           B        curry\n",
       "3           C        ramen"
      ]
     },
     "execution_count": 6,
     "metadata": {},
     "output_type": "execute_result"
    }
   ],
   "source": [
    "a3_script = \"\"\"\n",
    "SELECT  DISTINCT customer_id, product_name\n",
    "FROM (SELECT \n",
    "        s.customer_id, m.product_name, \n",
    "        s.order_date, \n",
    "        rank() OVER(PARTITION BY s.customer_id ORDER by s.order_date) as rnk\n",
    "      FROM sales s\n",
    "      JOIN menu m\n",
    "        ON s.product_id = m.product_id ) AS t\n",
    "WHERE rnk = 1;\n",
    "\"\"\"\n",
    "a3_sql = pd.read_sql_query(a3_script,con=conn)\n",
    "\n",
    "a3_sql"
   ]
  },
  {
   "cell_type": "markdown",
   "id": "aa77b687",
   "metadata": {},
   "source": [
    "### 4. What is the most purchased item on the menu and how many times was it purchased by all customers?"
   ]
  },
  {
   "cell_type": "code",
   "execution_count": 7,
   "id": "e55893fb",
   "metadata": {},
   "outputs": [
    {
     "data": {
      "text/html": [
       "<div>\n",
       "<style scoped>\n",
       "    .dataframe tbody tr th:only-of-type {\n",
       "        vertical-align: middle;\n",
       "    }\n",
       "\n",
       "    .dataframe tbody tr th {\n",
       "        vertical-align: top;\n",
       "    }\n",
       "\n",
       "    .dataframe thead th {\n",
       "        text-align: right;\n",
       "    }\n",
       "</style>\n",
       "<table border=\"1\" class=\"dataframe\">\n",
       "  <thead>\n",
       "    <tr style=\"text-align: right;\">\n",
       "      <th></th>\n",
       "      <th>product_id</th>\n",
       "      <th>product_name</th>\n",
       "      <th>purchase_count</th>\n",
       "    </tr>\n",
       "  </thead>\n",
       "  <tbody>\n",
       "    <tr>\n",
       "      <th>0</th>\n",
       "      <td>3</td>\n",
       "      <td>ramen</td>\n",
       "      <td>8</td>\n",
       "    </tr>\n",
       "  </tbody>\n",
       "</table>\n",
       "</div>"
      ],
      "text/plain": [
       "   product_id product_name  purchase_count\n",
       "0           3        ramen               8"
      ]
     },
     "execution_count": 7,
     "metadata": {},
     "output_type": "execute_result"
    }
   ],
   "source": [
    "a4_script = \"\"\"\n",
    "SELECT m.product_id, \n",
    "        m.product_name, \n",
    "        COUNT(*) AS purchase_count\n",
    "FROM menu m\n",
    "JOIN sales s\n",
    "    ON m.product_id = s.product_id\n",
    "GROUP BY 1,2\n",
    "ORDER BY 3 DESC\n",
    "LIMIT 1;\n",
    "\"\"\"\n",
    "a4_sql = pd.read_sql_query(a4_script,con=conn)\n",
    "\n",
    "a4_sql\n"
   ]
  },
  {
   "cell_type": "markdown",
   "id": "4e52bf2c",
   "metadata": {},
   "source": [
    "### 5. Which item was the most popular for each customer?"
   ]
  },
  {
   "cell_type": "code",
   "execution_count": 8,
   "id": "c0ebd837",
   "metadata": {},
   "outputs": [
    {
     "data": {
      "text/html": [
       "<div>\n",
       "<style scoped>\n",
       "    .dataframe tbody tr th:only-of-type {\n",
       "        vertical-align: middle;\n",
       "    }\n",
       "\n",
       "    .dataframe tbody tr th {\n",
       "        vertical-align: top;\n",
       "    }\n",
       "\n",
       "    .dataframe thead th {\n",
       "        text-align: right;\n",
       "    }\n",
       "</style>\n",
       "<table border=\"1\" class=\"dataframe\">\n",
       "  <thead>\n",
       "    <tr style=\"text-align: right;\">\n",
       "      <th></th>\n",
       "      <th>customer_id</th>\n",
       "      <th>product_name</th>\n",
       "      <th>product_count</th>\n",
       "    </tr>\n",
       "  </thead>\n",
       "  <tbody>\n",
       "    <tr>\n",
       "      <th>0</th>\n",
       "      <td>A</td>\n",
       "      <td>ramen</td>\n",
       "      <td>3</td>\n",
       "    </tr>\n",
       "    <tr>\n",
       "      <th>1</th>\n",
       "      <td>B</td>\n",
       "      <td>curry</td>\n",
       "      <td>2</td>\n",
       "    </tr>\n",
       "    <tr>\n",
       "      <th>2</th>\n",
       "      <td>B</td>\n",
       "      <td>ramen</td>\n",
       "      <td>2</td>\n",
       "    </tr>\n",
       "    <tr>\n",
       "      <th>3</th>\n",
       "      <td>B</td>\n",
       "      <td>sushi</td>\n",
       "      <td>2</td>\n",
       "    </tr>\n",
       "    <tr>\n",
       "      <th>4</th>\n",
       "      <td>C</td>\n",
       "      <td>ramen</td>\n",
       "      <td>3</td>\n",
       "    </tr>\n",
       "  </tbody>\n",
       "</table>\n",
       "</div>"
      ],
      "text/plain": [
       "  customer_id product_name  product_count\n",
       "0           A        ramen              3\n",
       "1           B        curry              2\n",
       "2           B        ramen              2\n",
       "3           B        sushi              2\n",
       "4           C        ramen              3"
      ]
     },
     "execution_count": 8,
     "metadata": {},
     "output_type": "execute_result"
    }
   ],
   "source": [
    "a5_script = \"\"\"\n",
    "SELECT customer_id, product_name, product_count\n",
    "FROM (\n",
    "    SELECT s.customer_id, \n",
    "            m.product_name,\n",
    "            COUNT(s.product_id) AS product_count,\n",
    "            RANK() OVER(PARTITION BY customer_id ORDER BY COUNT(s.product_id) DESC) AS rnk\n",
    "    FROM sales s\n",
    "    JOIN menu m\n",
    "        ON s.product_id  = m.product_id\n",
    "    GROUP BY 1,2 ) t\n",
    "WHERE rnk = 1;\n",
    "\"\"\"\n",
    "a5_sql = pd.read_sql_query(a5_script,con=conn)\n",
    "\n",
    "a5_sql"
   ]
  },
  {
   "cell_type": "markdown",
   "id": "08ca8716",
   "metadata": {},
   "source": [
    "## 6. Which item was purchased first by the customer after the day they became a member?"
   ]
  },
  {
   "cell_type": "code",
   "execution_count": 9,
   "id": "1ef7a9db",
   "metadata": {},
   "outputs": [
    {
     "data": {
      "text/html": [
       "<div>\n",
       "<style scoped>\n",
       "    .dataframe tbody tr th:only-of-type {\n",
       "        vertical-align: middle;\n",
       "    }\n",
       "\n",
       "    .dataframe tbody tr th {\n",
       "        vertical-align: top;\n",
       "    }\n",
       "\n",
       "    .dataframe thead th {\n",
       "        text-align: right;\n",
       "    }\n",
       "</style>\n",
       "<table border=\"1\" class=\"dataframe\">\n",
       "  <thead>\n",
       "    <tr style=\"text-align: right;\">\n",
       "      <th></th>\n",
       "      <th>customer_id</th>\n",
       "      <th>join_date</th>\n",
       "      <th>order_date</th>\n",
       "      <th>product_id</th>\n",
       "    </tr>\n",
       "  </thead>\n",
       "  <tbody>\n",
       "    <tr>\n",
       "      <th>0</th>\n",
       "      <td>A</td>\n",
       "      <td>2021-01-07</td>\n",
       "      <td>2021-01-10</td>\n",
       "      <td>3</td>\n",
       "    </tr>\n",
       "    <tr>\n",
       "      <th>1</th>\n",
       "      <td>B</td>\n",
       "      <td>2021-01-09</td>\n",
       "      <td>2021-01-11</td>\n",
       "      <td>1</td>\n",
       "    </tr>\n",
       "    <tr>\n",
       "      <th>2</th>\n",
       "      <td>C</td>\n",
       "      <td>2021-01-01</td>\n",
       "      <td>2021-01-07</td>\n",
       "      <td>3</td>\n",
       "    </tr>\n",
       "  </tbody>\n",
       "</table>\n",
       "</div>"
      ],
      "text/plain": [
       "  customer_id   join_date  order_date  product_id\n",
       "0           A  2021-01-07  2021-01-10           3\n",
       "1           B  2021-01-09  2021-01-11           1\n",
       "2           C  2021-01-01  2021-01-07           3"
      ]
     },
     "execution_count": 9,
     "metadata": {},
     "output_type": "execute_result"
    }
   ],
   "source": [
    "a6_script = \"\"\"\n",
    "SELECT customer_id, join_date, order_date, product_id\n",
    "FROM (\n",
    "    SELECT c.customer_id, \n",
    "            c.join_date, \n",
    "            s.order_date, \n",
    "            s.product_id,\n",
    "            RANK() OVER (PARTITION BY c.customer_id ORDER BY s.order_date) AS rnk\n",
    "    FROM sales s\n",
    "    JOIN customers c\n",
    "        ON s.customer_id = c.customer_id AND s.order_date > c.join_date ) t\n",
    "WHERE rnk =1;\n",
    "\"\"\"\n",
    "a6_sql = pd.read_sql_query(a6_script,con=conn)\n",
    "\n",
    "a6_sql"
   ]
  },
  {
   "cell_type": "markdown",
   "id": "f586e8a0",
   "metadata": {},
   "source": [
    "### 7. Which item was purchased just before the customer became a member?"
   ]
  },
  {
   "cell_type": "code",
   "execution_count": 10,
   "id": "d18815e9",
   "metadata": {},
   "outputs": [
    {
     "data": {
      "text/html": [
       "<div>\n",
       "<style scoped>\n",
       "    .dataframe tbody tr th:only-of-type {\n",
       "        vertical-align: middle;\n",
       "    }\n",
       "\n",
       "    .dataframe tbody tr th {\n",
       "        vertical-align: top;\n",
       "    }\n",
       "\n",
       "    .dataframe thead th {\n",
       "        text-align: right;\n",
       "    }\n",
       "</style>\n",
       "<table border=\"1\" class=\"dataframe\">\n",
       "  <thead>\n",
       "    <tr style=\"text-align: right;\">\n",
       "      <th></th>\n",
       "      <th>customer_id</th>\n",
       "      <th>join_date</th>\n",
       "      <th>order_date</th>\n",
       "      <th>product_id</th>\n",
       "    </tr>\n",
       "  </thead>\n",
       "  <tbody>\n",
       "    <tr>\n",
       "      <th>0</th>\n",
       "      <td>A</td>\n",
       "      <td>2021-01-07</td>\n",
       "      <td>2021-01-01</td>\n",
       "      <td>1</td>\n",
       "    </tr>\n",
       "    <tr>\n",
       "      <th>1</th>\n",
       "      <td>A</td>\n",
       "      <td>2021-01-07</td>\n",
       "      <td>2021-01-01</td>\n",
       "      <td>2</td>\n",
       "    </tr>\n",
       "    <tr>\n",
       "      <th>2</th>\n",
       "      <td>B</td>\n",
       "      <td>2021-01-09</td>\n",
       "      <td>2021-01-01</td>\n",
       "      <td>2</td>\n",
       "    </tr>\n",
       "  </tbody>\n",
       "</table>\n",
       "</div>"
      ],
      "text/plain": [
       "  customer_id   join_date  order_date  product_id\n",
       "0           A  2021-01-07  2021-01-01           1\n",
       "1           A  2021-01-07  2021-01-01           2\n",
       "2           B  2021-01-09  2021-01-01           2"
      ]
     },
     "execution_count": 10,
     "metadata": {},
     "output_type": "execute_result"
    }
   ],
   "source": [
    "a7_script = \"\"\"\n",
    "SELECT customer_id, join_date, order_date, product_id\n",
    "FROM (\n",
    "    SELECT c.customer_id, \n",
    "            c.join_date, \n",
    "            s.order_date, \n",
    "            s.product_id,\n",
    "            RANK() OVER (PARTITION BY c.customer_id ORDER BY s.order_date) AS rnk\n",
    "    FROM sales s\n",
    "    JOIN customers c\n",
    "        ON s.customer_id = c.customer_id AND s.order_date < c.join_date ) t\n",
    "    WHERE rnk = 1;\n",
    "\"\"\"\n",
    "a7_sql = pd.read_sql_query(a7_script,con=conn)\n",
    "\n",
    "a7_sql"
   ]
  },
  {
   "cell_type": "markdown",
   "id": "5f4e2398",
   "metadata": {},
   "source": [
    "## 8. What is the total items and amount spent for each member before they became a member?"
   ]
  },
  {
   "cell_type": "code",
   "execution_count": 11,
   "id": "b13fa1fb",
   "metadata": {},
   "outputs": [
    {
     "data": {
      "text/html": [
       "<div>\n",
       "<style scoped>\n",
       "    .dataframe tbody tr th:only-of-type {\n",
       "        vertical-align: middle;\n",
       "    }\n",
       "\n",
       "    .dataframe tbody tr th {\n",
       "        vertical-align: top;\n",
       "    }\n",
       "\n",
       "    .dataframe thead th {\n",
       "        text-align: right;\n",
       "    }\n",
       "</style>\n",
       "<table border=\"1\" class=\"dataframe\">\n",
       "  <thead>\n",
       "    <tr style=\"text-align: right;\">\n",
       "      <th></th>\n",
       "      <th>customer_id</th>\n",
       "      <th>product_count</th>\n",
       "      <th>total_revenue</th>\n",
       "    </tr>\n",
       "  </thead>\n",
       "  <tbody>\n",
       "    <tr>\n",
       "      <th>0</th>\n",
       "      <td>B</td>\n",
       "      <td>3</td>\n",
       "      <td>40</td>\n",
       "    </tr>\n",
       "    <tr>\n",
       "      <th>1</th>\n",
       "      <td>A</td>\n",
       "      <td>2</td>\n",
       "      <td>25</td>\n",
       "    </tr>\n",
       "  </tbody>\n",
       "</table>\n",
       "</div>"
      ],
      "text/plain": [
       "  customer_id  product_count  total_revenue\n",
       "0           B              3             40\n",
       "1           A              2             25"
      ]
     },
     "execution_count": 11,
     "metadata": {},
     "output_type": "execute_result"
    }
   ],
   "source": [
    "a8_script = \"\"\"\n",
    "SELECT customer_id, \n",
    "        COUNT(product_id) AS product_count,\n",
    "        SUM(price) AS total_revenue\n",
    "    FROM (\n",
    "    SELECT c.customer_id, \n",
    "                c.join_date, \n",
    "                s.order_date, \n",
    "                s.product_id,\n",
    "                m.price,\n",
    "                RANK() OVER (PARTITION BY c.customer_id ORDER BY s.order_date) AS rnk\n",
    "        FROM sales s\n",
    "        JOIN customers c\n",
    "            ON s.customer_id = c.customer_id AND s.order_date < c.join_date\n",
    "        JOIN menu m\n",
    "            ON m.product_id = s.product_id) t\n",
    "    GROUP BY 1\n",
    "\"\"\"\n",
    "a8_sql = pd.read_sql_query(a8_script,con=conn)\n",
    "\n",
    "a8_sql"
   ]
  },
  {
   "cell_type": "markdown",
   "id": "faee30cc",
   "metadata": {},
   "source": [
    "### 9. If each $1 spent equates to 10 points and sushi has a 2x points multiplier — how many points would each customer have?"
   ]
  },
  {
   "cell_type": "code",
   "execution_count": 12,
   "id": "bd636ec9",
   "metadata": {},
   "outputs": [
    {
     "data": {
      "text/html": [
       "<div>\n",
       "<style scoped>\n",
       "    .dataframe tbody tr th:only-of-type {\n",
       "        vertical-align: middle;\n",
       "    }\n",
       "\n",
       "    .dataframe tbody tr th {\n",
       "        vertical-align: top;\n",
       "    }\n",
       "\n",
       "    .dataframe thead th {\n",
       "        text-align: right;\n",
       "    }\n",
       "</style>\n",
       "<table border=\"1\" class=\"dataframe\">\n",
       "  <thead>\n",
       "    <tr style=\"text-align: right;\">\n",
       "      <th></th>\n",
       "      <th>customer_id</th>\n",
       "      <th>customer_point</th>\n",
       "    </tr>\n",
       "  </thead>\n",
       "  <tbody>\n",
       "    <tr>\n",
       "      <th>0</th>\n",
       "      <td>B</td>\n",
       "      <td>940</td>\n",
       "    </tr>\n",
       "    <tr>\n",
       "      <th>1</th>\n",
       "      <td>C</td>\n",
       "      <td>360</td>\n",
       "    </tr>\n",
       "    <tr>\n",
       "      <th>2</th>\n",
       "      <td>A</td>\n",
       "      <td>860</td>\n",
       "    </tr>\n",
       "  </tbody>\n",
       "</table>\n",
       "</div>"
      ],
      "text/plain": [
       "  customer_id  customer_point\n",
       "0           B             940\n",
       "1           C             360\n",
       "2           A             860"
      ]
     },
     "execution_count": 12,
     "metadata": {},
     "output_type": "execute_result"
    }
   ],
   "source": [
    "a9_script = \"\"\"\n",
    "SELECT customer_id, SUM(price*product_points) AS customer_point\n",
    "FROM (\n",
    "    SELECT  s.customer_id,\n",
    "        s.order_date,\n",
    "        s.product_id,\n",
    "        m.product_name,\n",
    "        m.price,\n",
    "        CASE \n",
    "            WHEN m.product_name = 'sushi' THEN 20\n",
    "            ELSE 10\n",
    "        ENd AS product_points\n",
    "    FROM sales s\n",
    "    JOIN menu m\n",
    "    ON s.product_id = m.product_id) t\n",
    "GROUP BY 1;\n",
    "\"\"\"\n",
    "a9_sql = pd.read_sql_query(a9_script,con=conn)\n",
    "\n",
    "a9_sql"
   ]
  },
  {
   "cell_type": "markdown",
   "id": "d2dfbb77",
   "metadata": {},
   "source": [
    "###  10. In the first week after a customer joins the program (including their join date) they earn 2x points on all items, not  just sushi - how many points do customer A and B have at the end of January? "
   ]
  },
  {
   "cell_type": "code",
   "execution_count": 13,
   "id": "bf54cc76",
   "metadata": {},
   "outputs": [
    {
     "data": {
      "text/html": [
       "<div>\n",
       "<style scoped>\n",
       "    .dataframe tbody tr th:only-of-type {\n",
       "        vertical-align: middle;\n",
       "    }\n",
       "\n",
       "    .dataframe tbody tr th {\n",
       "        vertical-align: top;\n",
       "    }\n",
       "\n",
       "    .dataframe thead th {\n",
       "        text-align: right;\n",
       "    }\n",
       "</style>\n",
       "<table border=\"1\" class=\"dataframe\">\n",
       "  <thead>\n",
       "    <tr style=\"text-align: right;\">\n",
       "      <th></th>\n",
       "      <th>customer_id</th>\n",
       "      <th>sum</th>\n",
       "    </tr>\n",
       "  </thead>\n",
       "  <tbody>\n",
       "    <tr>\n",
       "      <th>0</th>\n",
       "      <td>A</td>\n",
       "      <td>1020</td>\n",
       "    </tr>\n",
       "    <tr>\n",
       "      <th>1</th>\n",
       "      <td>B</td>\n",
       "      <td>320</td>\n",
       "    </tr>\n",
       "  </tbody>\n",
       "</table>\n",
       "</div>"
      ],
      "text/plain": [
       "  customer_id   sum\n",
       "0           A  1020\n",
       "1           B   320"
      ]
     },
     "execution_count": 13,
     "metadata": {},
     "output_type": "execute_result"
    }
   ],
   "source": [
    "a10_script = \"\"\"\n",
    "SELECT customer_id, SUM(price*points)\n",
    "FROM (\n",
    "    SELECT c.customer_id, \n",
    "            c.join_date,\n",
    "            CAST((c.join_date + INTERVAL'6 day') AS date)  AS end_period_date,\n",
    "            s.order_date,\n",
    "            m.product_name, \n",
    "            m.price,\n",
    "            CASE \n",
    "                WHEN s.order_date <= CAST((c.join_date + INTERVAL'6 day') AS date) AND s.order_date >= c.join_date THEN 20 \n",
    "                WHEN s.order_date > CAST((c.join_date + INTERVAL'6 day') AS date)  AND m.product_name = 'sushi' THEN 20 \n",
    "                WHEN s.order_date > CAST((c.join_date + INTERVAL'6 day') AS date)  AND m.product_name != 'sushi' THEN 10 \n",
    "                ELSE 0 \n",
    "            END AS points\n",
    "    FROM customers c\n",
    "    JOIN sales s\n",
    "        ON c.customer_id = s.customer_id\n",
    "    JOIN menu m\n",
    "        ON s.product_id = m.product_id\n",
    "    WHERE s.order_date BETWEEN '2021-01-01'::date AND '2021-01-31'::date) t\n",
    "WHERE customer_id in ('A','B')\n",
    "GROUP BY 1\n",
    "\"\"\"\n",
    "a10_sql = pd.read_sql_query(a10_script,con=conn)\n",
    "\n",
    "a10_sql"
   ]
  }
 ],
 "metadata": {
  "kernelspec": {
   "display_name": "data_analysis",
   "language": "python",
   "name": "data_analysis"
  },
  "language_info": {
   "codemirror_mode": {
    "name": "ipython",
    "version": 3
   },
   "file_extension": ".py",
   "mimetype": "text/x-python",
   "name": "python",
   "nbconvert_exporter": "python",
   "pygments_lexer": "ipython3",
   "version": "3.9.5"
  }
 },
 "nbformat": 4,
 "nbformat_minor": 5
}
